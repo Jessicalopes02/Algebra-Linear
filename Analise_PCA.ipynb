{
  "nbformat": 4,
  "nbformat_minor": 0,
  "metadata": {
    "colab": {
      "provenance": [],
      "authorship_tag": "ABX9TyO9azKp2g/4FD3TtX/wPzRp",
      "include_colab_link": true
    },
    "kernelspec": {
      "name": "python3",
      "display_name": "Python 3"
    },
    "language_info": {
      "name": "python"
    }
  },
  "cells": [
    {
      "cell_type": "markdown",
      "metadata": {
        "id": "view-in-github",
        "colab_type": "text"
      },
      "source": [
        "<a href=\"https://colab.research.google.com/github/Jessicalopes02/Algebra-Linear/blob/main/Analise_PCA.ipynb\" target=\"_parent\"><img src=\"https://colab.research.google.com/assets/colab-badge.svg\" alt=\"Open In Colab\"/></a>"
      ]
    },
    {
      "cell_type": "code",
      "execution_count": 1,
      "metadata": {
        "colab": {
          "base_uri": "https://localhost:8080/"
        },
        "id": "4wR7_35Rb-Pu",
        "outputId": "c8292d7a-61b6-49af-9ca7-760522c128ac"
      },
      "outputs": [
        {
          "output_type": "stream",
          "name": "stdout",
          "text": [
            "Archive:  archive.zip\n",
            "  inflating: Fish.csv                \n"
          ]
        }
      ],
      "source": [
        "!unzip archive.zip"
      ]
    },
    {
      "cell_type": "code",
      "source": [
        "import numpy as np"
      ],
      "metadata": {
        "id": "PBUGAVmCcQqM"
      },
      "execution_count": 2,
      "outputs": []
    },
    {
      "cell_type": "code",
      "source": [
        "np"
      ],
      "metadata": {
        "colab": {
          "base_uri": "https://localhost:8080/"
        },
        "id": "v7z5f50Kc3sN",
        "outputId": "92c22d8b-7bd5-4841-f558-2ed99ef2fba2"
      },
      "execution_count": 3,
      "outputs": [
        {
          "output_type": "execute_result",
          "data": {
            "text/plain": [
              "<module 'numpy' from '/usr/local/lib/python3.10/dist-packages/numpy/__init__.py'>"
            ]
          },
          "metadata": {},
          "execution_count": 3
        }
      ]
    },
    {
      "cell_type": "code",
      "source": [
        "import pandas as pd\n",
        "import numpy as np\n",
        "import seaborn as sns\n",
        "import matplotlib.pyplot as plt\n",
        "\n",
        "label_bream = 0\n",
        "label_smelt = 1\n",
        "\n",
        "dados = pd.read_csv(\"/content/Fish.csv\", sep=\",\")\n",
        "\n",
        "display(dados)\n",
        "\n"
      ],
      "metadata": {
        "colab": {
          "base_uri": "https://localhost:8080/",
          "height": 424
        },
        "id": "ikVLwEJ_c5gn",
        "outputId": "ccba4f1b-4fa7-4053-90ff-6afefe12e473"
      },
      "execution_count": 15,
      "outputs": [
        {
          "output_type": "display_data",
          "data": {
            "text/plain": [
              "    Species  Weight  Length1  Length2  Length3   Height   Width\n",
              "0     Bream   242.0     23.2     25.4     30.0  11.5200  4.0200\n",
              "1     Bream   290.0     24.0     26.3     31.2  12.4800  4.3056\n",
              "2     Bream   340.0     23.9     26.5     31.1  12.3778  4.6961\n",
              "3     Bream   363.0     26.3     29.0     33.5  12.7300  4.4555\n",
              "4     Bream   430.0     26.5     29.0     34.0  12.4440  5.1340\n",
              "..      ...     ...      ...      ...      ...      ...     ...\n",
              "154   Smelt    12.2     11.5     12.2     13.4   2.0904  1.3936\n",
              "155   Smelt    13.4     11.7     12.4     13.5   2.4300  1.2690\n",
              "156   Smelt    12.2     12.1     13.0     13.8   2.2770  1.2558\n",
              "157   Smelt    19.7     13.2     14.3     15.2   2.8728  2.0672\n",
              "158   Smelt    19.9     13.8     15.0     16.2   2.9322  1.8792\n",
              "\n",
              "[159 rows x 7 columns]"
            ],
            "text/html": [
              "\n",
              "  <div id=\"df-84582028-c4ed-43d4-8653-19c08152442b\">\n",
              "    <div class=\"colab-df-container\">\n",
              "      <div>\n",
              "<style scoped>\n",
              "    .dataframe tbody tr th:only-of-type {\n",
              "        vertical-align: middle;\n",
              "    }\n",
              "\n",
              "    .dataframe tbody tr th {\n",
              "        vertical-align: top;\n",
              "    }\n",
              "\n",
              "    .dataframe thead th {\n",
              "        text-align: right;\n",
              "    }\n",
              "</style>\n",
              "<table border=\"1\" class=\"dataframe\">\n",
              "  <thead>\n",
              "    <tr style=\"text-align: right;\">\n",
              "      <th></th>\n",
              "      <th>Species</th>\n",
              "      <th>Weight</th>\n",
              "      <th>Length1</th>\n",
              "      <th>Length2</th>\n",
              "      <th>Length3</th>\n",
              "      <th>Height</th>\n",
              "      <th>Width</th>\n",
              "    </tr>\n",
              "  </thead>\n",
              "  <tbody>\n",
              "    <tr>\n",
              "      <th>0</th>\n",
              "      <td>Bream</td>\n",
              "      <td>242.0</td>\n",
              "      <td>23.2</td>\n",
              "      <td>25.4</td>\n",
              "      <td>30.0</td>\n",
              "      <td>11.5200</td>\n",
              "      <td>4.0200</td>\n",
              "    </tr>\n",
              "    <tr>\n",
              "      <th>1</th>\n",
              "      <td>Bream</td>\n",
              "      <td>290.0</td>\n",
              "      <td>24.0</td>\n",
              "      <td>26.3</td>\n",
              "      <td>31.2</td>\n",
              "      <td>12.4800</td>\n",
              "      <td>4.3056</td>\n",
              "    </tr>\n",
              "    <tr>\n",
              "      <th>2</th>\n",
              "      <td>Bream</td>\n",
              "      <td>340.0</td>\n",
              "      <td>23.9</td>\n",
              "      <td>26.5</td>\n",
              "      <td>31.1</td>\n",
              "      <td>12.3778</td>\n",
              "      <td>4.6961</td>\n",
              "    </tr>\n",
              "    <tr>\n",
              "      <th>3</th>\n",
              "      <td>Bream</td>\n",
              "      <td>363.0</td>\n",
              "      <td>26.3</td>\n",
              "      <td>29.0</td>\n",
              "      <td>33.5</td>\n",
              "      <td>12.7300</td>\n",
              "      <td>4.4555</td>\n",
              "    </tr>\n",
              "    <tr>\n",
              "      <th>4</th>\n",
              "      <td>Bream</td>\n",
              "      <td>430.0</td>\n",
              "      <td>26.5</td>\n",
              "      <td>29.0</td>\n",
              "      <td>34.0</td>\n",
              "      <td>12.4440</td>\n",
              "      <td>5.1340</td>\n",
              "    </tr>\n",
              "    <tr>\n",
              "      <th>...</th>\n",
              "      <td>...</td>\n",
              "      <td>...</td>\n",
              "      <td>...</td>\n",
              "      <td>...</td>\n",
              "      <td>...</td>\n",
              "      <td>...</td>\n",
              "      <td>...</td>\n",
              "    </tr>\n",
              "    <tr>\n",
              "      <th>154</th>\n",
              "      <td>Smelt</td>\n",
              "      <td>12.2</td>\n",
              "      <td>11.5</td>\n",
              "      <td>12.2</td>\n",
              "      <td>13.4</td>\n",
              "      <td>2.0904</td>\n",
              "      <td>1.3936</td>\n",
              "    </tr>\n",
              "    <tr>\n",
              "      <th>155</th>\n",
              "      <td>Smelt</td>\n",
              "      <td>13.4</td>\n",
              "      <td>11.7</td>\n",
              "      <td>12.4</td>\n",
              "      <td>13.5</td>\n",
              "      <td>2.4300</td>\n",
              "      <td>1.2690</td>\n",
              "    </tr>\n",
              "    <tr>\n",
              "      <th>156</th>\n",
              "      <td>Smelt</td>\n",
              "      <td>12.2</td>\n",
              "      <td>12.1</td>\n",
              "      <td>13.0</td>\n",
              "      <td>13.8</td>\n",
              "      <td>2.2770</td>\n",
              "      <td>1.2558</td>\n",
              "    </tr>\n",
              "    <tr>\n",
              "      <th>157</th>\n",
              "      <td>Smelt</td>\n",
              "      <td>19.7</td>\n",
              "      <td>13.2</td>\n",
              "      <td>14.3</td>\n",
              "      <td>15.2</td>\n",
              "      <td>2.8728</td>\n",
              "      <td>2.0672</td>\n",
              "    </tr>\n",
              "    <tr>\n",
              "      <th>158</th>\n",
              "      <td>Smelt</td>\n",
              "      <td>19.9</td>\n",
              "      <td>13.8</td>\n",
              "      <td>15.0</td>\n",
              "      <td>16.2</td>\n",
              "      <td>2.9322</td>\n",
              "      <td>1.8792</td>\n",
              "    </tr>\n",
              "  </tbody>\n",
              "</table>\n",
              "<p>159 rows × 7 columns</p>\n",
              "</div>\n",
              "      <button class=\"colab-df-convert\" onclick=\"convertToInteractive('df-84582028-c4ed-43d4-8653-19c08152442b')\"\n",
              "              title=\"Convert this dataframe to an interactive table.\"\n",
              "              style=\"display:none;\">\n",
              "        \n",
              "  <svg xmlns=\"http://www.w3.org/2000/svg\" height=\"24px\"viewBox=\"0 0 24 24\"\n",
              "       width=\"24px\">\n",
              "    <path d=\"M0 0h24v24H0V0z\" fill=\"none\"/>\n",
              "    <path d=\"M18.56 5.44l.94 2.06.94-2.06 2.06-.94-2.06-.94-.94-2.06-.94 2.06-2.06.94zm-11 1L8.5 8.5l.94-2.06 2.06-.94-2.06-.94L8.5 2.5l-.94 2.06-2.06.94zm10 10l.94 2.06.94-2.06 2.06-.94-2.06-.94-.94-2.06-.94 2.06-2.06.94z\"/><path d=\"M17.41 7.96l-1.37-1.37c-.4-.4-.92-.59-1.43-.59-.52 0-1.04.2-1.43.59L10.3 9.45l-7.72 7.72c-.78.78-.78 2.05 0 2.83L4 21.41c.39.39.9.59 1.41.59.51 0 1.02-.2 1.41-.59l7.78-7.78 2.81-2.81c.8-.78.8-2.07 0-2.86zM5.41 20L4 18.59l7.72-7.72 1.47 1.35L5.41 20z\"/>\n",
              "  </svg>\n",
              "      </button>\n",
              "      \n",
              "  <style>\n",
              "    .colab-df-container {\n",
              "      display:flex;\n",
              "      flex-wrap:wrap;\n",
              "      gap: 12px;\n",
              "    }\n",
              "\n",
              "    .colab-df-convert {\n",
              "      background-color: #E8F0FE;\n",
              "      border: none;\n",
              "      border-radius: 50%;\n",
              "      cursor: pointer;\n",
              "      display: none;\n",
              "      fill: #1967D2;\n",
              "      height: 32px;\n",
              "      padding: 0 0 0 0;\n",
              "      width: 32px;\n",
              "    }\n",
              "\n",
              "    .colab-df-convert:hover {\n",
              "      background-color: #E2EBFA;\n",
              "      box-shadow: 0px 1px 2px rgba(60, 64, 67, 0.3), 0px 1px 3px 1px rgba(60, 64, 67, 0.15);\n",
              "      fill: #174EA6;\n",
              "    }\n",
              "\n",
              "    [theme=dark] .colab-df-convert {\n",
              "      background-color: #3B4455;\n",
              "      fill: #D2E3FC;\n",
              "    }\n",
              "\n",
              "    [theme=dark] .colab-df-convert:hover {\n",
              "      background-color: #434B5C;\n",
              "      box-shadow: 0px 1px 3px 1px rgba(0, 0, 0, 0.15);\n",
              "      filter: drop-shadow(0px 1px 2px rgba(0, 0, 0, 0.3));\n",
              "      fill: #FFFFFF;\n",
              "    }\n",
              "  </style>\n",
              "\n",
              "      <script>\n",
              "        const buttonEl =\n",
              "          document.querySelector('#df-84582028-c4ed-43d4-8653-19c08152442b button.colab-df-convert');\n",
              "        buttonEl.style.display =\n",
              "          google.colab.kernel.accessAllowed ? 'block' : 'none';\n",
              "\n",
              "        async function convertToInteractive(key) {\n",
              "          const element = document.querySelector('#df-84582028-c4ed-43d4-8653-19c08152442b');\n",
              "          const dataTable =\n",
              "            await google.colab.kernel.invokeFunction('convertToInteractive',\n",
              "                                                     [key], {});\n",
              "          if (!dataTable) return;\n",
              "\n",
              "          const docLinkHtml = 'Like what you see? Visit the ' +\n",
              "            '<a target=\"_blank\" href=https://colab.research.google.com/notebooks/data_table.ipynb>data table notebook</a>'\n",
              "            + ' to learn more about interactive tables.';\n",
              "          element.innerHTML = '';\n",
              "          dataTable['output_type'] = 'display_data';\n",
              "          await google.colab.output.renderOutput(dataTable, element);\n",
              "          const docLink = document.createElement('div');\n",
              "          docLink.innerHTML = docLinkHtml;\n",
              "          element.appendChild(docLink);\n",
              "        }\n",
              "      </script>\n",
              "    </div>\n",
              "  </div>\n",
              "  "
            ]
          },
          "metadata": {}
        }
      ]
    },
    {
      "cell_type": "code",
      "source": [
        "#calculando a matriz de correlação\n",
        "\n",
        "corr = dados.iloc[:,0:9].corr()\n",
        "corr"
      ],
      "metadata": {
        "colab": {
          "base_uri": "https://localhost:8080/",
          "height": 292
        },
        "id": "1QQRfrxSfG2y",
        "outputId": "b24ea36c-f96b-4ec0-bc4b-e1f992bea31b"
      },
      "execution_count": 18,
      "outputs": [
        {
          "output_type": "stream",
          "name": "stderr",
          "text": [
            "<ipython-input-18-05c4348f08c6>:3: FutureWarning: The default value of numeric_only in DataFrame.corr is deprecated. In a future version, it will default to False. Select only valid columns or specify the value of numeric_only to silence this warning.\n",
            "  corr = dados.iloc[:,0:9].corr()\n"
          ]
        },
        {
          "output_type": "execute_result",
          "data": {
            "text/plain": [
              "           Weight   Length1   Length2   Length3    Height     Width\n",
              "Weight   1.000000  0.915712  0.918618  0.923044  0.724345  0.886507\n",
              "Length1  0.915712  1.000000  0.999517  0.992031  0.625378  0.867050\n",
              "Length2  0.918618  0.999517  1.000000  0.994103  0.640441  0.873547\n",
              "Length3  0.923044  0.992031  0.994103  1.000000  0.703409  0.878520\n",
              "Height   0.724345  0.625378  0.640441  0.703409  1.000000  0.792881\n",
              "Width    0.886507  0.867050  0.873547  0.878520  0.792881  1.000000"
            ],
            "text/html": [
              "\n",
              "  <div id=\"df-b3ecdcd0-ffc3-4f6e-992e-ec6377ca80a6\">\n",
              "    <div class=\"colab-df-container\">\n",
              "      <div>\n",
              "<style scoped>\n",
              "    .dataframe tbody tr th:only-of-type {\n",
              "        vertical-align: middle;\n",
              "    }\n",
              "\n",
              "    .dataframe tbody tr th {\n",
              "        vertical-align: top;\n",
              "    }\n",
              "\n",
              "    .dataframe thead th {\n",
              "        text-align: right;\n",
              "    }\n",
              "</style>\n",
              "<table border=\"1\" class=\"dataframe\">\n",
              "  <thead>\n",
              "    <tr style=\"text-align: right;\">\n",
              "      <th></th>\n",
              "      <th>Weight</th>\n",
              "      <th>Length1</th>\n",
              "      <th>Length2</th>\n",
              "      <th>Length3</th>\n",
              "      <th>Height</th>\n",
              "      <th>Width</th>\n",
              "    </tr>\n",
              "  </thead>\n",
              "  <tbody>\n",
              "    <tr>\n",
              "      <th>Weight</th>\n",
              "      <td>1.000000</td>\n",
              "      <td>0.915712</td>\n",
              "      <td>0.918618</td>\n",
              "      <td>0.923044</td>\n",
              "      <td>0.724345</td>\n",
              "      <td>0.886507</td>\n",
              "    </tr>\n",
              "    <tr>\n",
              "      <th>Length1</th>\n",
              "      <td>0.915712</td>\n",
              "      <td>1.000000</td>\n",
              "      <td>0.999517</td>\n",
              "      <td>0.992031</td>\n",
              "      <td>0.625378</td>\n",
              "      <td>0.867050</td>\n",
              "    </tr>\n",
              "    <tr>\n",
              "      <th>Length2</th>\n",
              "      <td>0.918618</td>\n",
              "      <td>0.999517</td>\n",
              "      <td>1.000000</td>\n",
              "      <td>0.994103</td>\n",
              "      <td>0.640441</td>\n",
              "      <td>0.873547</td>\n",
              "    </tr>\n",
              "    <tr>\n",
              "      <th>Length3</th>\n",
              "      <td>0.923044</td>\n",
              "      <td>0.992031</td>\n",
              "      <td>0.994103</td>\n",
              "      <td>1.000000</td>\n",
              "      <td>0.703409</td>\n",
              "      <td>0.878520</td>\n",
              "    </tr>\n",
              "    <tr>\n",
              "      <th>Height</th>\n",
              "      <td>0.724345</td>\n",
              "      <td>0.625378</td>\n",
              "      <td>0.640441</td>\n",
              "      <td>0.703409</td>\n",
              "      <td>1.000000</td>\n",
              "      <td>0.792881</td>\n",
              "    </tr>\n",
              "    <tr>\n",
              "      <th>Width</th>\n",
              "      <td>0.886507</td>\n",
              "      <td>0.867050</td>\n",
              "      <td>0.873547</td>\n",
              "      <td>0.878520</td>\n",
              "      <td>0.792881</td>\n",
              "      <td>1.000000</td>\n",
              "    </tr>\n",
              "  </tbody>\n",
              "</table>\n",
              "</div>\n",
              "      <button class=\"colab-df-convert\" onclick=\"convertToInteractive('df-b3ecdcd0-ffc3-4f6e-992e-ec6377ca80a6')\"\n",
              "              title=\"Convert this dataframe to an interactive table.\"\n",
              "              style=\"display:none;\">\n",
              "        \n",
              "  <svg xmlns=\"http://www.w3.org/2000/svg\" height=\"24px\"viewBox=\"0 0 24 24\"\n",
              "       width=\"24px\">\n",
              "    <path d=\"M0 0h24v24H0V0z\" fill=\"none\"/>\n",
              "    <path d=\"M18.56 5.44l.94 2.06.94-2.06 2.06-.94-2.06-.94-.94-2.06-.94 2.06-2.06.94zm-11 1L8.5 8.5l.94-2.06 2.06-.94-2.06-.94L8.5 2.5l-.94 2.06-2.06.94zm10 10l.94 2.06.94-2.06 2.06-.94-2.06-.94-.94-2.06-.94 2.06-2.06.94z\"/><path d=\"M17.41 7.96l-1.37-1.37c-.4-.4-.92-.59-1.43-.59-.52 0-1.04.2-1.43.59L10.3 9.45l-7.72 7.72c-.78.78-.78 2.05 0 2.83L4 21.41c.39.39.9.59 1.41.59.51 0 1.02-.2 1.41-.59l7.78-7.78 2.81-2.81c.8-.78.8-2.07 0-2.86zM5.41 20L4 18.59l7.72-7.72 1.47 1.35L5.41 20z\"/>\n",
              "  </svg>\n",
              "      </button>\n",
              "      \n",
              "  <style>\n",
              "    .colab-df-container {\n",
              "      display:flex;\n",
              "      flex-wrap:wrap;\n",
              "      gap: 12px;\n",
              "    }\n",
              "\n",
              "    .colab-df-convert {\n",
              "      background-color: #E8F0FE;\n",
              "      border: none;\n",
              "      border-radius: 50%;\n",
              "      cursor: pointer;\n",
              "      display: none;\n",
              "      fill: #1967D2;\n",
              "      height: 32px;\n",
              "      padding: 0 0 0 0;\n",
              "      width: 32px;\n",
              "    }\n",
              "\n",
              "    .colab-df-convert:hover {\n",
              "      background-color: #E2EBFA;\n",
              "      box-shadow: 0px 1px 2px rgba(60, 64, 67, 0.3), 0px 1px 3px 1px rgba(60, 64, 67, 0.15);\n",
              "      fill: #174EA6;\n",
              "    }\n",
              "\n",
              "    [theme=dark] .colab-df-convert {\n",
              "      background-color: #3B4455;\n",
              "      fill: #D2E3FC;\n",
              "    }\n",
              "\n",
              "    [theme=dark] .colab-df-convert:hover {\n",
              "      background-color: #434B5C;\n",
              "      box-shadow: 0px 1px 3px 1px rgba(0, 0, 0, 0.15);\n",
              "      filter: drop-shadow(0px 1px 2px rgba(0, 0, 0, 0.3));\n",
              "      fill: #FFFFFF;\n",
              "    }\n",
              "  </style>\n",
              "\n",
              "      <script>\n",
              "        const buttonEl =\n",
              "          document.querySelector('#df-b3ecdcd0-ffc3-4f6e-992e-ec6377ca80a6 button.colab-df-convert');\n",
              "        buttonEl.style.display =\n",
              "          google.colab.kernel.accessAllowed ? 'block' : 'none';\n",
              "\n",
              "        async function convertToInteractive(key) {\n",
              "          const element = document.querySelector('#df-b3ecdcd0-ffc3-4f6e-992e-ec6377ca80a6');\n",
              "          const dataTable =\n",
              "            await google.colab.kernel.invokeFunction('convertToInteractive',\n",
              "                                                     [key], {});\n",
              "          if (!dataTable) return;\n",
              "\n",
              "          const docLinkHtml = 'Like what you see? Visit the ' +\n",
              "            '<a target=\"_blank\" href=https://colab.research.google.com/notebooks/data_table.ipynb>data table notebook</a>'\n",
              "            + ' to learn more about interactive tables.';\n",
              "          element.innerHTML = '';\n",
              "          dataTable['output_type'] = 'display_data';\n",
              "          await google.colab.output.renderOutput(dataTable, element);\n",
              "          const docLink = document.createElement('div');\n",
              "          docLink.innerHTML = docLinkHtml;\n",
              "          element.appendChild(docLink);\n",
              "        }\n",
              "      </script>\n",
              "    </div>\n",
              "  </div>\n",
              "  "
            ]
          },
          "metadata": {},
          "execution_count": 18
        }
      ]
    },
    {
      "cell_type": "code",
      "source": [
        "import seaborn as sns\n",
        "import matplotlib.pyplot as plt\n",
        "import pandas as pd\n",
        "\n",
        "# Selecionar apenas as colunas numéricas relevantes\n",
        "numeric_cols = ['Weight', 'Height', 'Width']\n",
        "numeric_dados = dados[numeric_cols]\n",
        "\n",
        "# Calcular a matriz de correlação para as colunas numéricas\n",
        "corr_matrix = numeric_dados.corr()\n",
        "\n",
        "# Plotar o mapa de calor\n",
        "plt.figure(figsize=(10, 8))\n",
        "heatmap = sns.heatmap(corr_matrix, annot=True, cmap='coolwarm')\n",
        "\n",
        "# Configurar os rótulos dos eixos\n",
        "heatmap.set_xticklabels(heatmap.get_xticklabels(), rotation=45)\n",
        "heatmap.set_yticklabels(heatmap.get_yticklabels(), rotation=0)\n",
        "\n",
        "# Exibir o mapa de calor\n",
        "plt.show()\n"
      ],
      "metadata": {
        "colab": {
          "base_uri": "https://localhost:8080/",
          "height": 712
        },
        "id": "G7cKmCUVf1Ai",
        "outputId": "758152b8-0ade-4bbb-efbb-c1b837d6cc21"
      },
      "execution_count": 24,
      "outputs": [
        {
          "output_type": "display_data",
          "data": {
            "text/plain": [
              "<Figure size 1000x800 with 2 Axes>"
            ],
            "image/png": "[encoded data removed]"
          },
          "metadata": {}
        }
      ]
    },
    {
      "cell_type": "code",
      "source": [
        "dados = dados.iloc[:, 0:8]"
      ],
      "metadata": {
        "id": "fd86RPTXhyoe"
      },
      "execution_count": 25,
      "outputs": []
    },
    {
      "cell_type": "code",
      "source": [
        "from sklearn.decomposition import PCA\n",
        "pca = PCA(n_components=5)"
      ],
      "metadata": {
        "id": "PA_aH8-GjL80"
      },
      "execution_count": 32,
      "outputs": []
    },
    {
      "cell_type": "code",
      "source": [
        "import numpy as np\n",
        "\n",
        "# Selecionar apenas as colunas numéricas relevantes\n",
        "numeric_cols = ['Weight', 'Height', 'Width']\n",
        "dados_numeric = dados[numeric_cols]\n",
        "\n",
        "# Converter as colunas numéricas para valores float\n",
        "dados_numeric = dados_numeric.astype(float)\n",
        "\n",
        "# Calcular a matriz de covariância\n",
        "cov_matrix = np.cov(dados_numeric, rowvar=False)\n",
        "\n",
        "# Exibir a matriz de covariância\n",
        "print(\"Matriz de Covariância:\")\n",
        "print(cov_matrix)\n"
      ],
      "metadata": {
        "colab": {
          "base_uri": "https://localhost:8080/"
        },
        "id": "7N8StT4HjVsl",
        "outputId": "f18ffc65-e415-484a-e191-e30aad27852c"
      },
      "execution_count": 35,
      "outputs": [
        {
          "output_type": "stream",
          "name": "stdout",
          "text": [
            "Matriz de Covariância:\n",
            "[[1.28148475e+05 1.11141330e+03 5.34990098e+02]\n",
            " [1.11141330e+03 1.83715758e+01 5.72912464e+00]\n",
            " [5.34990098e+02 5.72912464e+00 2.84193469e+00]]\n"
          ]
        }
      ]
    },
    {
      "cell_type": "code",
      "source": [
        "from sklearn.decomposition import PCA\n",
        "import pandas as pd\n",
        "\n",
        "\n",
        "# Selecionar apenas as colunas numéricas relevantes\n",
        "numeric_cols = ['Weight', 'Height', 'Width']\n",
        "numeric_dados = dados[numeric_cols]\n",
        "\n",
        "# Inicializar o objeto PCA\n",
        "pca = PCA(n_components=2)\n",
        "\n",
        "# Aplicar a PCA aos dados\n",
        "pca_data = pca.fit_transform(numeric_dados)\n",
        "\n",
        "# Imprimir os resultados\n",
        "print(pca_data)\n"
      ],
      "metadata": {
        "colab": {
          "base_uri": "https://localhost:8080/"
        },
        "id": "ouBi5AqGmdBX",
        "outputId": "63a484fa-77de-4ebd-a79c-6964772c9034"
      },
      "execution_count": 37,
      "outputs": [
        {
          "output_type": "stream",
          "name": "stdout",
          "text": [
            "[[-1.56298725e+02 -3.90461808e+00]\n",
            " [-1.08291430e+02 -4.45473931e+00]\n",
            " [-5.82930024e+01 -3.94721140e+00]\n",
            " [-3.52920177e+01 -4.05464908e+00]\n",
            " [ 3.17052305e+01 -3.24706318e+00]\n",
            " [ 5.17134884e+01 -4.18563535e+00]\n",
            " [ 1.01717643e+02 -4.34641684e+00]\n",
            " [-8.29280993e+00 -3.77889916e+00]\n",
            " [ 5.17166303e+01 -4.57375477e+00]\n",
            " [ 1.01716719e+02 -4.35144152e+00]\n",
            " [ 7.67187960e+01 -4.63483949e+00]\n",
            " [ 1.01717371e+02 -4.47608663e+00]\n",
            " [ 1.01710197e+02 -3.81083499e+00]\n",
            " [-5.82781158e+01 -5.51829334e+00]\n",
            " [ 2.01719282e+02 -4.18618212e+00]\n",
            " [ 2.01725184e+02 -4.71905647e+00]\n",
            " [ 3.01714312e+02 -3.19355373e+00]\n",
            " [ 3.01714618e+02 -3.25900745e+00]\n",
            " [ 2.11724549e+02 -4.76267071e+00]\n",
            " [ 2.51715121e+02 -3.32522688e+00]\n",
            " [ 1.76723614e+02 -4.63944923e+00]\n",
            " [ 2.86725190e+02 -4.46526251e+00]\n",
            " [ 2.21723740e+02 -4.58098436e+00]\n",
            " [ 2.81724042e+02 -4.08977189e+00]\n",
            " [ 3.01727549e+02 -4.60142363e+00]\n",
            " [ 3.26729365e+02 -4.55191276e+00]\n",
            " [ 3.21729766e+02 -4.60422296e+00]\n",
            " [ 3.15730395e+02 -4.78180680e+00]\n",
            " [ 4.51728774e+02 -3.95291350e+00]\n",
            " [ 6.01741445e+02 -4.68375458e+00]\n",
            " [ 5.21735932e+02 -4.46434929e+00]\n",
            " [ 5.56734660e+02 -4.18913575e+00]\n",
            " [ 5.26743773e+02 -5.18765852e+00]\n",
            " [ 5.76740416e+02 -4.61236619e+00]\n",
            " [ 5.51731225e+02 -3.78856957e+00]\n",
            " [-3.58360626e+02  1.78643142e+00]\n",
            " [-3.29349674e+02  8.38108060e-01]\n",
            " [-3.20347341e+02  6.34691032e-01]\n",
            " [-3.11346274e+02  6.41055707e-01]\n",
            " [-2.78340936e+02  2.96384270e-01]\n",
            " [-3.98334058e+02 -1.02879973e+00]\n",
            " [-2.88341637e+02  2.76138010e-01]\n",
            " [-2.78342984e+02  4.33462746e-01]\n",
            " [-2.48345143e+02  9.55132355e-01]\n",
            " [-2.53338580e+02  1.14128463e-01]\n",
            " [-2.38334672e+02 -1.80358101e-01]\n",
            " [-2.58340006e+02  1.80680943e-01]\n",
            " [-2.38340251e+02  4.50242267e-01]\n",
            " [-2.29330682e+02 -5.96696413e-01]\n",
            " [-2.37336532e+02 -2.94365235e-02]\n",
            " [-1.98332092e+02 -2.14946864e-01]\n",
            " [-2.18334780e+02 -6.14110433e-02]\n",
            " [-1.08321883e+02 -9.07513594e-01]\n",
            " [-1.26322571e+02 -8.02109542e-01]\n",
            " [-8.31765753e+00 -7.08146443e-01]\n",
            " [-1.28326302e+02 -5.65723650e-01]\n",
            " [-1.28328336e+02 -3.32863398e-01]\n",
            " [-9.23227092e+01 -6.87391703e-01]\n",
            " [ 1.41691352e+02 -7.42326234e-01]\n",
            " [ 4.01688178e+02  6.25158519e-01]\n",
            " [ 6.01683851e+02  1.87261104e+00]\n",
            " [-3.43337657e+02 -7.61110893e-01]\n",
            " [-3.38340284e+02 -4.45810546e-01]\n",
            " [-3.08332994e+02 -1.03921900e+00]\n",
            " [-2.78324801e+02 -1.77541159e+00]\n",
            " [-2.48320284e+02 -2.04631370e+00]\n",
            " [-2.58322895e+02 -1.78581944e+00]\n",
            " [-2.28316356e+02 -2.37766000e+00]\n",
            " [-2.53313303e+02 -2.91065395e+00]\n",
            " [-1.98308451e+02 -3.07803045e+00]\n",
            " [-1.25303390e+02 -3.20906344e+00]\n",
            " [-9.83018366e+01 -3.25151807e+00]\n",
            " [-3.92480288e+02  3.60461093e+00]\n",
            " [-3.66366748e+02  2.36225243e+00]\n",
            " [-3.58362744e+02  2.08543411e+00]\n",
            " [-3.46855779e+02  1.40273764e+00]\n",
            " [-3.28355381e+02  1.53579560e+00]\n",
            " [-2.98349682e+02  1.13153970e+00]\n",
            " [-3.20349691e+02  9.79253687e-01]\n",
            " [-3.18346303e+02  5.74257664e-01]\n",
            " [-3.13350911e+02  1.11564053e+00]\n",
            " [-3.13352499e+02  1.20534128e+00]\n",
            " [-2.88345093e+02  7.26446460e-01]\n",
            " [-2.83344407e+02  5.81422804e-01]\n",
            " [-2.73345319e+02  8.48915893e-01]\n",
            " [-2.68340110e+02  2.26519747e-01]\n",
            " [-2.78342551e+02  4.23240818e-01]\n",
            " [-2.78346137e+02  8.73852514e-01]\n",
            " [-2.68342524e+02  4.99337199e-01]\n",
            " [-2.63344794e+02  7.78035101e-01]\n",
            " [-2.88344731e+02  8.37525705e-01]\n",
            " [-2.68344314e+02  7.38223459e-01]\n",
            " [-2.48337122e+02 -6.84159269e-03]\n",
            " [-2.53344141e+02  7.78236733e-01]\n",
            " [-2.48350761e+02  1.55285696e+00]\n",
            " [-2.28342111e+02  6.75400818e-01]\n",
            " [-1.73335838e+02  1.69343419e-01]\n",
            " [-2.53339668e+02  3.34602119e-01]\n",
            " [-2.10337129e+02  3.27975536e-01]\n",
            " [-2.18341321e+02  6.09175938e-01]\n",
            " [-2.01338736e+02  5.71629320e-01]\n",
            " [-1.80334840e+02  1.74282862e-01]\n",
            " [-9.83244751e+01 -3.50679286e-01]\n",
            " [-1.38335996e+02  5.34183063e-01]\n",
            " [-1.33337230e+02  6.94508425e-01]\n",
            " [-1.48333565e+02  2.97946079e-01]\n",
            " [-1.48330413e+02 -1.87755611e-01]\n",
            " [-9.83329694e+01  4.46312954e-01]\n",
            " [-7.83330637e+01  5.81269216e-01]\n",
            " [ 1.15684093e+02 -2.01176152e-01]\n",
            " [ 1.57685654e+02 -8.99296047e-02]\n",
            " [ 4.41689060e+02  1.10178276e+00]\n",
            " [ 2.86687083e+02  4.08299224e-01]\n",
            " [ 3.01683516e+02  8.31108043e-01]\n",
            " [ 3.01683487e+02  6.69337044e-01]\n",
            " [ 2.91682093e+02  8.25611273e-01]\n",
            " [ 5.01681968e+02  2.03867309e+00]\n",
            " [ 2.51687327e+02 -5.27075336e-02]\n",
            " [ 4.21696310e+02  4.21354980e-02]\n",
            " [ 4.51689537e+02  8.46823988e-01]\n",
            " [ 5.01685994e+02  1.48542871e+00]\n",
            " [ 6.16687302e+02  1.86079064e+00]\n",
            " [ 4.21682056e+02  1.42148538e+00]\n",
            " [ 7.01684522e+02  2.29980987e+00]\n",
            " [ 6.01683338e+02  2.19195969e+00]\n",
            " [ 7.01684315e+02  2.51345992e+00]\n",
            " [ 6.01692770e+02  1.41360466e+00]\n",
            " [ 6.01689490e+02  1.59913946e+00]\n",
            " [-1.98351091e+02  1.69626445e+00]\n",
            " [-9.83512452e+01  2.36989936e+00]\n",
            " [-9.83483174e+01  2.11370182e+00]\n",
            " [-9.83467866e+01  1.81234253e+00]\n",
            " [ 3.16582020e+01  1.93538739e+00]\n",
            " [-5.33481167e+01  2.12273863e+00]\n",
            " [ 5.76558505e+01  2.21621484e+00]\n",
            " [ 1.11649972e+02  3.14325180e+00]\n",
            " [ 1.41659717e+02  2.37727110e+00]\n",
            " [ 1.01653431e+02  2.86090714e+00]\n",
            " [ 1.68657434e+02  2.65211153e+00]\n",
            " [ 3.71649171e+02  4.55330816e+00]\n",
            " [ 5.51654961e+02  4.85991430e+00]\n",
            " [ 8.51659725e+02  5.75190973e+00]\n",
            " [ 1.20163058e+03  1.01390803e+01]\n",
            " [ 1.15163290e+03  9.68187907e+00]\n",
            " [ 1.25164435e+03  9.22024801e+00]\n",
            " [-3.91685066e+02  4.02897791e+00]\n",
            " [-3.90882611e+02  3.79042199e+00]\n",
            " [-3.91384749e+02  4.02886855e+00]\n",
            " [-3.88679852e+02  3.55973747e+00]\n",
            " [-3.88581264e+02  3.68590545e+00]\n",
            " [-3.89682091e+02  3.77889879e+00]\n",
            " [-3.88380112e+02  3.55729709e+00]\n",
            " [-3.88480600e+02  3.57177878e+00]\n",
            " [-3.88580751e+02  3.58256789e+00]\n",
            " [-3.86180827e+02  3.68551285e+00]\n",
            " [-3.84978457e+02  3.37607903e+00]\n",
            " [-3.86179784e+02  3.51851334e+00]\n",
            " [-3.78671577e+02  2.89046295e+00]\n",
            " [-3.78471855e+02  2.85795309e+00]]\n"
          ]
        }
      ]
    },
    {
      "cell_type": "code",
      "source": [
        "pca.components_"
      ],
      "metadata": {
        "colab": {
          "base_uri": "https://localhost:8080/"
        },
        "id": "e4zJ8qdDnFP1",
        "outputId": "8b4bcbba-a0c9-4a64-8b3d-3e3ff4a06c29"
      },
      "execution_count": 38,
      "outputs": [
        {
          "output_type": "execute_result",
          "data": {
            "text/plain": [
              "array([[ 0.99995367,  0.00867308,  0.00417467],\n",
              "       [ 0.00914402, -0.99139481, -0.13058607]])"
            ]
          },
          "metadata": {},
          "execution_count": 38
        }
      ]
    },
    {
      "cell_type": "code",
      "source": [
        "# Explique brevemente a base de dados\n",
        "print(\"Conjunto de dados sobre peixes.\")\n",
        "\n",
        "# Mostrar as dimensões dos dados\n",
        "print(\"Número de amostras:\", dados.shape[0])\n",
        "print(\"Número de variáveis:\", dados.shape[1])"
      ],
      "metadata": {
        "colab": {
          "base_uri": "https://localhost:8080/"
        },
        "id": "Hus_uS3PnMAF",
        "outputId": "6dbeb905-64b4-4714-bcd5-0ccb0bf06fe5"
      },
      "execution_count": 39,
      "outputs": [
        {
          "output_type": "stream",
          "name": "stdout",
          "text": [
            "Conjunto de dados sobre peixes.\n",
            "Número de amostras: 159\n",
            "Número de variáveis: 7\n"
          ]
        }
      ]
    },
    {
      "cell_type": "code",
      "source": [
        "# Calcular a matriz de covariância\n",
        "cov_matrix = np.cov(numeric_dados, rowvar=False)\n",
        "\n",
        "# Calcular os autovalores e autovetores\n",
        "eigenvalues, eigenvectors = np.linalg.eig(cov_matrix)\n",
        "\n",
        "# Imprimir os autovalores e autovetores\n",
        "for i in range(len(eigenvalues)):\n",
        "    print(\"Autovalor\", i+1, \":\", eigenvalues[i])\n",
        "    print(\"Autovetor\", i+1, \":\", eigenvectors[:, i])\n"
      ],
      "metadata": {
        "colab": {
          "base_uri": "https://localhost:8080/"
        },
        "id": "kcZ0J3v7nYI2",
        "outputId": "7750f79c-c702-45e9-e1fc-4d39e545b50e"
      },
      "execution_count": 40,
      "outputs": [
        {
          "output_type": "stream",
          "name": "stdout",
          "text": [
            "Autovalor 1 : 128160.34845397402\n",
            "Autovetor 1 : [0.99995367 0.00867308 0.00417467]\n",
            "Autovalor 2 : 8.875211259928788\n",
            "Autovetor 2 : [ 0.00914402 -0.99139481 -0.13058607]\n",
            "Autovalor 3 : 0.46496582705991896\n",
            "Autovetor 3 : [-0.00300616 -0.1306182   0.99142819]\n"
          ]
        }
      ]
    },
    {
      "cell_type": "code",
      "source": [
        "# Ordenar os autovalores em ordem decrescente\n",
        "sorted_indices = np.argsort(eigenvalues)[::-1]\n",
        "sorted_eigenvalues = eigenvalues[sorted_indices]\n",
        "sorted_eigenvectors = eigenvectors[:, sorted_indices]\n",
        "\n",
        "# Imprimir os maiores autovalores e seus autovetores\n",
        "num_components = 2  # Número de componentes principais a serem considerados\n",
        "for i in range(num_components):\n",
        "    print(\"Autovalor\", i+1, \":\", sorted_eigenvalues[i])\n",
        "    print(\"Autovetor\", i+1, \":\", sorted_eigenvectors[:, i])\n"
      ],
      "metadata": {
        "colab": {
          "base_uri": "https://localhost:8080/"
        },
        "id": "t9sZr9i2nh6k",
        "outputId": "7284877e-1580-4e81-c6fe-b551213eccd7"
      },
      "execution_count": 41,
      "outputs": [
        {
          "output_type": "stream",
          "name": "stdout",
          "text": [
            "Autovalor 1 : 128160.34845397402\n",
            "Autovetor 1 : [0.99995367 0.00867308 0.00417467]\n",
            "Autovalor 2 : 8.875211259928788\n",
            "Autovetor 2 : [ 0.00914402 -0.99139481 -0.13058607]\n"
          ]
        }
      ]
    },
    {
      "cell_type": "code",
      "source": [
        "explained_variance_ratio_5 = pca.explained_variance_ratio_[1]"
      ],
      "metadata": {
        "id": "2Xlqe6NCoJzq"
      },
      "execution_count": 44,
      "outputs": []
    },
    {
      "cell_type": "code",
      "source": [
        "# Colunas usadas no ajuste do modelo PCA\n",
        "features = ['Weight', 'Height', 'Width']\n",
        "\n",
        "# Ajuste do modelo PCA com 2 componentes principais\n",
        "pca = PCA(n_components=2)\n",
        "X_transformed = pca.fit_transform(dados[features])\n",
        "\n",
        "# Extrair os componentes principais\n",
        "PCA1 = X_transformed[:, 0]\n",
        "PCA2 = X_transformed[:, 1]\n",
        "\n",
        "\n",
        "\n",
        "\n"
      ],
      "metadata": {
        "id": "UhALAgPooTTB"
      },
      "execution_count": 58,
      "outputs": []
    },
    {
      "cell_type": "code",
      "source": [
        "dados.head()"
      ],
      "metadata": {
        "colab": {
          "base_uri": "https://localhost:8080/",
          "height": 206
        },
        "id": "-tYmCzb-nvQU",
        "outputId": "21b70198-b087-4fcb-f8cd-57e52431a7f4"
      },
      "execution_count": 59,
      "outputs": [
        {
          "output_type": "execute_result",
          "data": {
            "text/plain": [
              "  Species  Weight  Length1  Length2  Length3   Height   Width\n",
              "0   Bream   242.0     23.2     25.4     30.0  11.5200  4.0200\n",
              "1   Bream   290.0     24.0     26.3     31.2  12.4800  4.3056\n",
              "2   Bream   340.0     23.9     26.5     31.1  12.3778  4.6961\n",
              "3   Bream   363.0     26.3     29.0     33.5  12.7300  4.4555\n",
              "4   Bream   430.0     26.5     29.0     34.0  12.4440  5.1340"
            ],
            "text/html": [
              "\n",
              "  <div id=\"df-8d39aefc-9df1-4e14-9113-7a16db639b7a\">\n",
              "    <div class=\"colab-df-container\">\n",
              "      <div>\n",
              "<style scoped>\n",
              "    .dataframe tbody tr th:only-of-type {\n",
              "        vertical-align: middle;\n",
              "    }\n",
              "\n",
              "    .dataframe tbody tr th {\n",
              "        vertical-align: top;\n",
              "    }\n",
              "\n",
              "    .dataframe thead th {\n",
              "        text-align: right;\n",
              "    }\n",
              "</style>\n",
              "<table border=\"1\" class=\"dataframe\">\n",
              "  <thead>\n",
              "    <tr style=\"text-align: right;\">\n",
              "      <th></th>\n",
              "      <th>Species</th>\n",
              "      <th>Weight</th>\n",
              "      <th>Length1</th>\n",
              "      <th>Length2</th>\n",
              "      <th>Length3</th>\n",
              "      <th>Height</th>\n",
              "      <th>Width</th>\n",
              "    </tr>\n",
              "  </thead>\n",
              "  <tbody>\n",
              "    <tr>\n",
              "      <th>0</th>\n",
              "      <td>Bream</td>\n",
              "      <td>242.0</td>\n",
              "      <td>23.2</td>\n",
              "      <td>25.4</td>\n",
              "      <td>30.0</td>\n",
              "      <td>11.5200</td>\n",
              "      <td>4.0200</td>\n",
              "    </tr>\n",
              "    <tr>\n",
              "      <th>1</th>\n",
              "      <td>Bream</td>\n",
              "      <td>290.0</td>\n",
              "      <td>24.0</td>\n",
              "      <td>26.3</td>\n",
              "      <td>31.2</td>\n",
              "      <td>12.4800</td>\n",
              "      <td>4.3056</td>\n",
              "    </tr>\n",
              "    <tr>\n",
              "      <th>2</th>\n",
              "      <td>Bream</td>\n",
              "      <td>340.0</td>\n",
              "      <td>23.9</td>\n",
              "      <td>26.5</td>\n",
              "      <td>31.1</td>\n",
              "      <td>12.3778</td>\n",
              "      <td>4.6961</td>\n",
              "    </tr>\n",
              "    <tr>\n",
              "      <th>3</th>\n",
              "      <td>Bream</td>\n",
              "      <td>363.0</td>\n",
              "      <td>26.3</td>\n",
              "      <td>29.0</td>\n",
              "      <td>33.5</td>\n",
              "      <td>12.7300</td>\n",
              "      <td>4.4555</td>\n",
              "    </tr>\n",
              "    <tr>\n",
              "      <th>4</th>\n",
              "      <td>Bream</td>\n",
              "      <td>430.0</td>\n",
              "      <td>26.5</td>\n",
              "      <td>29.0</td>\n",
              "      <td>34.0</td>\n",
              "      <td>12.4440</td>\n",
              "      <td>5.1340</td>\n",
              "    </tr>\n",
              "  </tbody>\n",
              "</table>\n",
              "</div>\n",
              "      <button class=\"colab-df-convert\" onclick=\"convertToInteractive('df-8d39aefc-9df1-4e14-9113-7a16db639b7a')\"\n",
              "              title=\"Convert this dataframe to an interactive table.\"\n",
              "              style=\"display:none;\">\n",
              "        \n",
              "  <svg xmlns=\"http://www.w3.org/2000/svg\" height=\"24px\"viewBox=\"0 0 24 24\"\n",
              "       width=\"24px\">\n",
              "    <path d=\"M0 0h24v24H0V0z\" fill=\"none\"/>\n",
              "    <path d=\"M18.56 5.44l.94 2.06.94-2.06 2.06-.94-2.06-.94-.94-2.06-.94 2.06-2.06.94zm-11 1L8.5 8.5l.94-2.06 2.06-.94-2.06-.94L8.5 2.5l-.94 2.06-2.06.94zm10 10l.94 2.06.94-2.06 2.06-.94-2.06-.94-.94-2.06-.94 2.06-2.06.94z\"/><path d=\"M17.41 7.96l-1.37-1.37c-.4-.4-.92-.59-1.43-.59-.52 0-1.04.2-1.43.59L10.3 9.45l-7.72 7.72c-.78.78-.78 2.05 0 2.83L4 21.41c.39.39.9.59 1.41.59.51 0 1.02-.2 1.41-.59l7.78-7.78 2.81-2.81c.8-.78.8-2.07 0-2.86zM5.41 20L4 18.59l7.72-7.72 1.47 1.35L5.41 20z\"/>\n",
              "  </svg>\n",
              "      </button>\n",
              "      \n",
              "  <style>\n",
              "    .colab-df-container {\n",
              "      display:flex;\n",
              "      flex-wrap:wrap;\n",
              "      gap: 12px;\n",
              "    }\n",
              "\n",
              "    .colab-df-convert {\n",
              "      background-color: #E8F0FE;\n",
              "      border: none;\n",
              "      border-radius: 50%;\n",
              "      cursor: pointer;\n",
              "      display: none;\n",
              "      fill: #1967D2;\n",
              "      height: 32px;\n",
              "      padding: 0 0 0 0;\n",
              "      width: 32px;\n",
              "    }\n",
              "\n",
              "    .colab-df-convert:hover {\n",
              "      background-color: #E2EBFA;\n",
              "      box-shadow: 0px 1px 2px rgba(60, 64, 67, 0.3), 0px 1px 3px 1px rgba(60, 64, 67, 0.15);\n",
              "      fill: #174EA6;\n",
              "    }\n",
              "\n",
              "    [theme=dark] .colab-df-convert {\n",
              "      background-color: #3B4455;\n",
              "      fill: #D2E3FC;\n",
              "    }\n",
              "\n",
              "    [theme=dark] .colab-df-convert:hover {\n",
              "      background-color: #434B5C;\n",
              "      box-shadow: 0px 1px 3px 1px rgba(0, 0, 0, 0.15);\n",
              "      filter: drop-shadow(0px 1px 2px rgba(0, 0, 0, 0.3));\n",
              "      fill: #FFFFFF;\n",
              "    }\n",
              "  </style>\n",
              "\n",
              "      <script>\n",
              "        const buttonEl =\n",
              "          document.querySelector('#df-8d39aefc-9df1-4e14-9113-7a16db639b7a button.colab-df-convert');\n",
              "        buttonEl.style.display =\n",
              "          google.colab.kernel.accessAllowed ? 'block' : 'none';\n",
              "\n",
              "        async function convertToInteractive(key) {\n",
              "          const element = document.querySelector('#df-8d39aefc-9df1-4e14-9113-7a16db639b7a');\n",
              "          const dataTable =\n",
              "            await google.colab.kernel.invokeFunction('convertToInteractive',\n",
              "                                                     [key], {});\n",
              "          if (!dataTable) return;\n",
              "\n",
              "          const docLinkHtml = 'Like what you see? Visit the ' +\n",
              "            '<a target=\"_blank\" href=https://colab.research.google.com/notebooks/data_table.ipynb>data table notebook</a>'\n",
              "            + ' to learn more about interactive tables.';\n",
              "          element.innerHTML = '';\n",
              "          dataTable['output_type'] = 'display_data';\n",
              "          await google.colab.output.renderOutput(dataTable, element);\n",
              "          const docLink = document.createElement('div');\n",
              "          docLink.innerHTML = docLinkHtml;\n",
              "          element.appendChild(docLink);\n",
              "        }\n",
              "      </script>\n",
              "    </div>\n",
              "  </div>\n",
              "  "
            ]
          },
          "metadata": {},
          "execution_count": 59
        }
      ]
    },
    {
      "cell_type": "code",
      "source": [
        "import matplotlib.pyplot as plt\n",
        "\n",
        "# Plot dos dados após a PCA\n",
        "plt.scatter(pca_data[:, 0], pca_data[:, 1])\n",
        "plt.xlabel('PCA1')\n",
        "plt.ylabel('PCA2')\n",
        "plt.title('PCA Plot')\n",
        "plt.show()\n",
        "\n",
        "# Inicie discussões com base nos padrões encontrados\n",
        "print(\"Os dados parecem mostrar uma separação clara entre as classes de peixes.\")\n"
      ],
      "metadata": {
        "colab": {
          "base_uri": "https://localhost:8080/",
          "height": 489
        },
        "id": "KoEhMumvn_xD",
        "outputId": "524b5edf-6b58-48b8-80df-2bfcd68c8c8a"
      },
      "execution_count": 43,
      "outputs": [
        {
          "output_type": "display_data",
          "data": {
            "text/plain": [
              "<Figure size 640x480 with 1 Axes>"
            ],
            "image/png": "[encoded data removed]"
          },
          "metadata": {}
        },
        {
          "output_type": "stream",
          "name": "stdout",
          "text": [
            "Os dados parecem mostrar uma separação clara entre as classes de peixes.\n"
          ]
        }
      ]
    },
    {
      "cell_type": "code",
      "source": [
        "variance_ratio_cumsum = np.cumsum(pca.explained_variance_ratio_)\n",
        "\n",
        "# Para determinar o número de componentes necessárias para explicar pelo menos 90% da variabilidade\n",
        "n_components = np.argmax(variance_ratio_cumsum >= 0.9) + 1\n",
        "\n",
        "# Exibir o número de componentes necessárias\n",
        "print(\"Número de componentes necessárias para explicar pelo menos 90% da variabilidade:\", n_components)"
      ],
      "metadata": {
        "colab": {
          "base_uri": "https://localhost:8080/"
        },
        "id": "Sf0PcJ7RqzJt",
        "outputId": "fd8e7cfd-f007-4096-b27b-d42ab1c3b8d5"
      },
      "execution_count": 61,
      "outputs": [
        {
          "output_type": "stream",
          "name": "stdout",
          "text": [
            "Número de componentes necessárias para explicar pelo menos 90% da variabilidade: 1\n"
          ]
        }
      ]
    },
    {
      "cell_type": "code",
      "source": [
        "from mpl_toolkits.mplot3d import Axes3D\n",
        "\n",
        "scores1 = PCA1\n",
        "scores2 = PCA2\n",
        "\n",
        "fig = plt.figure()\n",
        "ax = fig.add_subplot(111, projection='3d')\n",
        "ax.scatter(scores1, scores2)\n",
        "ax.view_init(elev=20, azim=45)\n",
        "\n",
        "labels = ['B'+str(i+1) if i < 250 else 'P'+str(i-249) for i in range(498)]\n",
        "colors = ['red' if label.startswith('P') else 'blue' for label in labels]\n",
        "\n",
        "for i in range(len(scores1)):\n",
        "    ax.text(scores1[i], scores2[i], 0, labels[i])\n",
        "\n",
        "plt.show()\n"
      ],
      "metadata": {
        "colab": {
          "base_uri": "https://localhost:8080/",
          "height": 406
        },
        "id": "qGGp0-EZrMep",
        "outputId": "93bb3ff7-766d-4c26-c7f6-7609c52a6a89"
      },
      "execution_count": 73,
      "outputs": [
        {
          "output_type": "display_data",
          "data": {
            "text/plain": [
              "<Figure size 640x480 with 1 Axes>"
            ],
            "image/png": "[encoded data removed]"
          },
          "metadata": {}
        }
      ]
    },
    {
      "cell_type": "code",
      "source": [
        "import pandas as pd\n",
        "from sklearn.preprocessing import OneHotEncoder\n",
        "\n",
        "# Selecionar as colunas desejadas\n",
        "dados_subset = dados.iloc[:, 0:8]\n",
        "\n",
        "# Converter colunas categóricas em one-hot encoding\n",
        "dados_encoded = pd.get_dummies(dados_subset)\n",
        "\n",
        "# Converter os dados para uma matriz numérica\n",
        "dados_matriz = dados_encoded.values.astype(float)\n",
        "\n",
        "# Realizar a decomposição SVD dos dados\n",
        "U, S, V = np.linalg.svd(dados_matriz)\n",
        "\n",
        "# Imprimir as matrizes resultantes\n",
        "print(\"Matriz U:\")\n",
        "print(U)\n",
        "print(\"Matriz S:\")\n",
        "print(S)\n",
        "print(\"Matriz V:\")\n",
        "print(V)\n",
        "\n"
      ],
      "metadata": {
        "colab": {
          "base_uri": "https://localhost:8080/"
        },
        "id": "kszOwI-AuMWX",
        "outputId": "5d178236-8fe2-4b23-9e1c-d78fda40294b"
      },
      "execution_count": 87,
      "outputs": [
        {
          "output_type": "stream",
          "name": "stdout",
          "text": [
            "Matriz U:\n",
            "[[-0.0362228   0.0887614   0.09538201 ... -0.02286034 -0.03815061\n",
            "  -0.02681543]\n",
            " [-0.0433055   0.07938359  0.11035983 ... -0.08420084 -0.09734513\n",
            "  -0.09664055]\n",
            " [-0.05065726  0.06276228  0.10697413 ...  0.04894468 -0.00502763\n",
            "   0.00658486]\n",
            " ...\n",
            " [-0.00210088  0.07730671 -0.03604258 ...  0.91587609 -0.08491252\n",
            "  -0.08242589]\n",
            " [-0.00323541  0.08319863 -0.02894969 ... -0.07857482  0.89917473\n",
            "  -0.0895689 ]\n",
            " [-0.00328268  0.08787618 -0.032105   ... -0.07695238 -0.09288107\n",
            "   0.90317076]]\n",
            "Matriz S:\n",
            "[6.77231307e+03 2.76398517e+02 4.22813196e+01 1.17986604e+01\n",
            " 5.46153815e+00 4.30104190e+00 3.75119727e+00 3.08396454e+00\n",
            " 2.44551698e+00 2.18199480e+00 1.50465471e+00 8.87232511e-01\n",
            " 3.92991574e-01]\n",
            "Matriz V:\n",
            "[[-9.95740895e-01 -4.78163039e-02 -5.16853887e-02 -5.66734656e-02\n",
            "  -1.63108221e-02 -7.98986430e-03 -4.73763458e-04 -3.77911906e-05\n",
            "  -4.70237096e-04 -2.67969752e-04 -6.76320127e-05 -3.98988472e-06\n",
            "  -6.98435010e-05]\n",
            " [-9.21774096e-02  5.16151363e-01  5.59760161e-01  6.15864795e-01\n",
            "   1.59504139e-01  8.27601939e-02  1.70385832e-03  3.24248543e-03\n",
            "   9.91901412e-03  2.84668917e-03  6.77115738e-03  3.65563638e-03\n",
            "   5.21182129e-04]\n",
            " [-1.49334627e-03 -2.35365348e-01 -1.85994308e-01  1.07591563e-01\n",
            "   9.31403706e-01  1.30925637e-01  9.51597987e-02  1.73251194e-02\n",
            "  -2.23285991e-02 -6.18095336e-02  1.94398888e-03 -9.84857045e-03\n",
            "   1.18496027e-03]\n",
            " [ 2.23464399e-04 -1.84676568e-01 -2.21459171e-01  4.68072098e-01\n",
            "  -7.06574032e-02 -6.55462319e-01  1.78438148e-01 -5.25438386e-04\n",
            "  -4.50294880e-01  1.62492773e-01  1.76946572e-02  3.92044319e-02\n",
            "  -1.66019305e-02]\n",
            " [ 3.83485767e-04 -1.68280655e-01 -2.07793946e-01  3.10055506e-01\n",
            "  -1.96783135e-01  5.25070072e-01 -7.67300583e-02 -1.90354657e-01\n",
            "  -2.85293082e-01 -8.66280356e-02  6.12176061e-01 -5.00642480e-02\n",
            "   9.82936118e-02]\n",
            " [ 1.48335187e-04 -3.41512969e-01  3.70791438e-03  3.08137651e-01\n",
            "  -1.47443695e-01  6.98949479e-02  3.73928115e-01 -5.43923151e-01\n",
            "   5.14240251e-01 -1.25280977e-02 -2.31439301e-01 -4.32428008e-02\n",
            "  -7.79272402e-02]\n",
            " [-1.01715776e-04 -1.18807897e-01  1.25043221e-01 -5.03822324e-03\n",
            "   1.86114280e-02 -9.87146726e-02 -5.04382502e-02  1.33976894e-01\n",
            "   1.06598108e-01  2.11130858e-01  1.52501418e-01 -9.25380129e-01\n",
            "  -6.41422227e-02]\n",
            " [-3.66449659e-04 -1.94247168e-01  2.69179749e-02  1.27770480e-01\n",
            "  -9.93392575e-02  3.43286154e-01 -4.59928465e-02  1.43860451e-01\n",
            "  -2.86886287e-01  1.94146861e-01 -6.00064326e-01 -1.13123915e-01\n",
            "   5.49383497e-01]\n",
            " [ 8.04553552e-04 -4.90423328e-01  1.48271395e-01  3.00699619e-01\n",
            "  -1.08755564e-01 -3.19027931e-02 -3.04181704e-01  5.85846626e-01\n",
            "   3.27423876e-01 -2.13991400e-01  5.14061485e-02  1.87432595e-01\n",
            "  -8.78579657e-02]\n",
            " [ 9.56306548e-05 -1.51830503e-01  3.18619946e-01 -1.39753951e-01\n",
            "   9.39432163e-02 -3.54484559e-01 -1.72453075e-01 -2.98039941e-01\n",
            "   6.57197552e-02 -3.11444687e-01  2.36392055e-01 -1.54099112e-03\n",
            "   6.67566247e-01]\n",
            " [ 1.70861304e-04  4.20029086e-01 -6.17806289e-01  2.30504519e-01\n",
            "  -4.94415811e-02 -7.97206924e-02 -4.02236991e-02  1.55589407e-01\n",
            "   3.20988864e-01 -3.54899202e-01 -7.77345860e-02 -1.83501601e-01\n",
            "   2.92283984e-01]\n",
            " [-2.19174038e-04 -5.08294289e-02  1.88473254e-01 -1.08829609e-01\n",
            "  -8.92513516e-02  6.67311021e-02  6.16636024e-01  2.33258291e-01\n",
            "  -2.65640860e-01 -6.34021858e-01 -4.64692658e-02 -1.54476844e-01\n",
            "  -6.64133959e-02]\n",
            " [-2.58669251e-04 -4.92617243e-02 -9.83986922e-03  6.68557180e-02\n",
            "   6.76465569e-03 -2.55961654e-02 -5.51912777e-01 -3.43939752e-01\n",
            "  -2.68348413e-01 -4.57285054e-01 -3.48215242e-01 -1.79392302e-01\n",
            "  -3.67215973e-01]]\n"
          ]
        }
      ]
    }
  ]
}